{
 "cells": [
  {
   "cell_type": "code",
   "execution_count": 19,
   "metadata": {
    "cellView": "both",
    "colab": {},
    "colab_type": "code",
    "id": "x00t_uJCEbeb"
   },
   "outputs": [
    {
     "name": "stdout",
     "output_type": "stream",
     "text": [
      "Requirement already satisfied: annoy in /opt/conda/lib/python3.7/site-packages (1.16.3)\n",
      "Requirement already satisfied: simpleneighbors[annoy] in /opt/conda/lib/python3.7/site-packages (0.1.0)\n",
      "Requirement already satisfied: annoy>=1.16.0; extra == \"annoy\" in /opt/conda/lib/python3.7/site-packages (from simpleneighbors[annoy]) (1.16.3)\n"
     ]
    }
   ],
   "source": [
    "# %%capture\n",
    "#@title Setup Environment\n",
    "# Install the latest Tensorflow version.\n",
    "!pip install -q tensorflow-text\n",
    "!pip install annoy\n",
    "!pip install simpleneighbors[annoy]\n",
    "# !pip install -q nltk\n",
    "# !pip install -q tqdm"
   ]
  },
  {
   "cell_type": "code",
   "execution_count": 2,
   "metadata": {},
   "outputs": [],
   "source": [
    "import json\n",
    "import nltk\n",
    "import os\n",
    "import pprint\n",
    "import random\n",
    "import simpleneighbors\n",
    "import urllib\n",
    "import pandas as pd\n",
    "import numpy as np\n",
    "from IPython.display import HTML, display\n",
    "from tqdm.notebook import tqdm\n",
    "\n",
    "import tensorflow.compat.v2 as tf\n",
    "import tensorflow_hub as hub\n",
    "from tensorflow_text import SentencepieceTokenizer"
   ]
  },
  {
   "cell_type": "code",
   "execution_count": 147,
   "metadata": {
    "cellView": "both",
    "colab": {},
    "colab_type": "code",
    "id": "DmeFAuVsyWxg"
   },
   "outputs": [
    {
     "name": "stderr",
     "output_type": "stream",
     "text": [
      "[nltk_data] Downloading package punkt to /home/jupyter/nltk_data...\n",
      "[nltk_data]   Package punkt is already up-to-date!\n"
     ]
    }
   ],
   "source": [
    "\n",
    "nltk.download('punkt')\n",
    "\n",
    "def load_data(path, sep=\"##,##\"):\n",
    "    data = pd.read_csv(path,sep='##,##')\n",
    "    return data\n",
    "\n",
    "def extract_sentences_from_answer(df):\n",
    "  all_sentences = []\n",
    "  for index, row in df.iterrows():\n",
    "#   for ans in answer_list:\n",
    "      sentences = nltk.tokenize.sent_tokenize(row['answer'])    \n",
    "      sentences = sentences + nltk.tokenize.sent_tokenize(row['question'])\n",
    "      all_sentences.extend(zip(sentences, [row['answer']] * len(sentences)))\n",
    "  return list(set(all_sentences)) # remove duplicates\n",
    "\n",
    "def extract_questions(df):\n",
    "  questions = []\n",
    "  for index, row in df.iterrows():\n",
    "    questions.append((row['question'], row['answer']))   \n",
    "  return list(set(questions))\n",
    "        \n",
    "\n",
    "def get_nearest(query_text):\n",
    "  query_embedding = model.signatures['question_encoder'](tf.constant([query_text]))['outputs'][0]\n",
    "  search_results = index.nearest(query_embedding, n=num_results)\n",
    "  return search_results"
   ]
  },
  {
   "cell_type": "code",
   "execution_count": 121,
   "metadata": {},
   "outputs": [
    {
     "name": "stderr",
     "output_type": "stream",
     "text": [
      "/opt/conda/lib/python3.7/site-packages/ipykernel_launcher.py:4: ParserWarning: Falling back to the 'python' engine because the 'c' engine does not support regex separators (separators > 1 char and different from '\\s+' are interpreted as regex); you can avoid this warning by specifying engine='python'.\n",
      "  after removing the cwd from sys.path.\n"
     ]
    },
    {
     "data": {
      "text/html": [
       "<div>\n",
       "<style scoped>\n",
       "    .dataframe tbody tr th:only-of-type {\n",
       "        vertical-align: middle;\n",
       "    }\n",
       "\n",
       "    .dataframe tbody tr th {\n",
       "        vertical-align: top;\n",
       "    }\n",
       "\n",
       "    .dataframe thead th {\n",
       "        text-align: right;\n",
       "    }\n",
       "</style>\n",
       "<table border=\"1\" class=\"dataframe\">\n",
       "  <thead>\n",
       "    <tr style=\"text-align: right;\">\n",
       "      <th></th>\n",
       "      <th>question</th>\n",
       "      <th>answer</th>\n",
       "    </tr>\n",
       "  </thead>\n",
       "  <tbody>\n",
       "    <tr>\n",
       "      <th>0</th>\n",
       "      <td>What is NEFT ?</td>\n",
       "      <td>National Electronic Funds Transfer or NEFT is ...</td>\n",
       "    </tr>\n",
       "    <tr>\n",
       "      <th>1</th>\n",
       "      <td>Where is mount everest ?</td>\n",
       "      <td>Mount Everest is the highest of the Himalayan ...</td>\n",
       "    </tr>\n",
       "    <tr>\n",
       "      <th>2</th>\n",
       "      <td>How do I access the system after being locked ...</td>\n",
       "      <td>You may contact the Member Service Center at 8...</td>\n",
       "    </tr>\n",
       "    <tr>\n",
       "      <th>3</th>\n",
       "      <td>When I use Popmoney when will the recipient re...</td>\n",
       "      <td>This depends on the delivery option selected b...</td>\n",
       "    </tr>\n",
       "    <tr>\n",
       "      <th>4</th>\n",
       "      <td>Does Coastal charge a fee to receive Foreign W...</td>\n",
       "      <td>While Coastal does not charge a fee for receiv...</td>\n",
       "    </tr>\n",
       "    <tr>\n",
       "      <th>5</th>\n",
       "      <td>How do I send a secured message?</td>\n",
       "      <td>Within the Messages tab on the Account Service...</td>\n",
       "    </tr>\n",
       "    <tr>\n",
       "      <th>6</th>\n",
       "      <td>Will recurring transfers continue, even if my ...</td>\n",
       "      <td>Absolutely! Any automatic payments or pending ...</td>\n",
       "    </tr>\n",
       "    <tr>\n",
       "      <th>7</th>\n",
       "      <td>Where do I find my mobile settings and change ...</td>\n",
       "      <td>If you would like to do things like change you...</td>\n",
       "    </tr>\n",
       "    <tr>\n",
       "      <th>8</th>\n",
       "      <td>Why do I keep getting asked my security questi...</td>\n",
       "      <td>The system monitors trends in member access an...</td>\n",
       "    </tr>\n",
       "    <tr>\n",
       "      <th>9</th>\n",
       "      <td>How can I view my credit card account details?</td>\n",
       "      <td>You may access your credit card history, trans...</td>\n",
       "    </tr>\n",
       "    <tr>\n",
       "      <th>10</th>\n",
       "      <td>Does the mobile app have the same features and...</td>\n",
       "      <td>The Digital Banking mobile app contains most o...</td>\n",
       "    </tr>\n",
       "    <tr>\n",
       "      <th>11</th>\n",
       "      <td>I called the number on my new VISA Debit Card ...</td>\n",
       "      <td>Please remember to hit the pound key (\"#\") aft...</td>\n",
       "    </tr>\n",
       "    <tr>\n",
       "      <th>12</th>\n",
       "      <td>what is the price of sari ?</td>\n",
       "      <td>The pink one cost about 250</td>\n",
       "    </tr>\n",
       "  </tbody>\n",
       "</table>\n",
       "</div>"
      ],
      "text/plain": [
       "                                             question  \\\n",
       "0                                      What is NEFT ?   \n",
       "1                            Where is mount everest ?   \n",
       "2   How do I access the system after being locked ...   \n",
       "3   When I use Popmoney when will the recipient re...   \n",
       "4   Does Coastal charge a fee to receive Foreign W...   \n",
       "5                    How do I send a secured message?   \n",
       "6   Will recurring transfers continue, even if my ...   \n",
       "7   Where do I find my mobile settings and change ...   \n",
       "8   Why do I keep getting asked my security questi...   \n",
       "9      How can I view my credit card account details?   \n",
       "10  Does the mobile app have the same features and...   \n",
       "11  I called the number on my new VISA Debit Card ...   \n",
       "12                        what is the price of sari ?   \n",
       "\n",
       "                                               answer  \n",
       "0   National Electronic Funds Transfer or NEFT is ...  \n",
       "1   Mount Everest is the highest of the Himalayan ...  \n",
       "2   You may contact the Member Service Center at 8...  \n",
       "3   This depends on the delivery option selected b...  \n",
       "4   While Coastal does not charge a fee for receiv...  \n",
       "5   Within the Messages tab on the Account Service...  \n",
       "6   Absolutely! Any automatic payments or pending ...  \n",
       "7   If you would like to do things like change you...  \n",
       "8   The system monitors trends in member access an...  \n",
       "9   You may access your credit card history, trans...  \n",
       "10  The Digital Banking mobile app contains most o...  \n",
       "11  Please remember to hit the pound key (\"#\") aft...  \n",
       "12                        The pink one cost about 250  "
      ]
     },
     "execution_count": 121,
     "metadata": {},
     "output_type": "execute_result"
    }
   ],
   "source": [
    "data = load_data('/home/jupyter/faq.csv')\n",
    "data"
   ]
  },
  {
   "cell_type": "code",
   "execution_count": 136,
   "metadata": {},
   "outputs": [],
   "source": [
    "sentences = extract_sentences_from_answer(data)\n",
    "questions = extract_questions(data)\n",
    "sent_dict = dict(sentences)"
   ]
  },
  {
   "cell_type": "code",
   "execution_count": 9,
   "metadata": {
    "colab": {},
    "colab_type": "code",
    "id": "44I0uCRQRiFO"
   },
   "outputs": [
    {
     "data": {
      "text/plain": [
       "<tensorflow.python.saved_model.load.Loader._recreate_base_user_object.<locals>._UserObject at 0x7f4beaccaed0>"
      ]
     },
     "execution_count": 9,
     "metadata": {},
     "output_type": "execute_result"
    }
   ],
   "source": [
    "module_url = \"https://tfhub.dev/google/universal-sentence-encoder-multilingual-qa/3\" \n",
    "model = hub.load(module_url)\n",
    "model"
   ]
  },
  {
   "cell_type": "code",
   "execution_count": 137,
   "metadata": {
    "colab": {},
    "colab_type": "code",
    "id": "FwDUryIfSLp2"
   },
   "outputs": [
    {
     "name": "stdout",
     "output_type": "stream",
     "text": [
      "Computing embeddings for 39 sentences\n"
     ]
    },
    {
     "data": {
      "application/vnd.jupyter.widget-view+json": {
       "model_id": "ac77a30cbf9d46cbb0f8b9148f3d403d",
       "version_major": 2,
       "version_minor": 0
      },
      "text/plain": [
       "HBox(children=(FloatProgress(value=0.0, max=39.0), HTML(value='')))"
      ]
     },
     "metadata": {},
     "output_type": "display_data"
    },
    {
     "name": "stdout",
     "output_type": "stream",
     "text": [
      "response_batch = ['You may contact the Member Service Center at 800-868-4262, or visit your local branch.']\n",
      "response_batch = ['The pink one cost about 250']\n",
      "response_batch = ['?This can be found?by tapping the menu icon at the top right of the screen and scrolling down until you see the Solution Center.']\n",
      "response_batch = ['Often times, it can take up to 3 days after accepting the payment.']\n",
      "response_batch = ['The Digital Banking mobile app contains most of the same features as the desktop site.']\n",
      "response_batch = ['You may access your credit card history, transactions, payments, and details within Digital Banking.']\n",
      "response_batch = ['Absolutely!']\n",
      "response_batch = ['Any automatic payments or pending transaction made before the card was turned off will continue as normal.']\n",
      "response_batch = ['How do I send a secured message?']\n",
      "response_batch = ['When I use Popmoney when will the recipient receive the funds?']\n",
      "response_batch = ['The system monitors trends in member access and activity within Digital Banking.']\n",
      "response_batch = ['National Electronic Funds Transfer or NEFT is an electronic funds transfer system maintained by the Reserve Bank of India.']\n",
      "response_batch = ['It is located between Nepal and Tibet, an autonomous region of China']\n",
      "response_batch = ['It also offers functionality not found on the desktop site, such as Mobile Check Deposit and Tap Balances.']\n",
      "response_batch = ['Mount Everest is the highest of the Himalayan mountains, and—at 8,850 meters (29,035 feet)—is considered the highest point on Earth.']\n",
      "response_batch = ['Started in November 2005, the setup was established and maintained by Institute for Development and Research in Banking Technology']\n",
      "response_batch = ['What can I do?']\n",
      "response_batch = ['While Coastal does not charge a fee for receiving the international wire, some issuing or corresponding institutions may charge a fee.']\n",
      "response_batch = ['Where is mount everest ?']\n",
      "response_batch = ['We may prompt for additional authentication based on those trends.For example, you might get challenged if you:Clear your browser cookies.Use a new device or computer.Log in from a new location.Please note that this is not a comprehensive list of things that could prompt for challenge questions.']\n",
      "response_batch = ['If you would like to do things like change your password, change your email address or change your address, you just need to access the Solution Center on the mobile app.']\n",
      "response_batch = ['Please remember to hit the pound key (\"#\") after every entry.']\n",
      "response_batch = ['This depends on the delivery option selected by the sender of the funds.']\n",
      "response_batch = ['If a fee is imposed, it will be deducted from the amount of the incoming wire prior to us receiving it and posting it to your account.']\n",
      "response_batch = ['Why do I keep getting asked my security questions each time I log into the system?']\n",
      "response_batch = ['Does the mobile app have the same features and functions as the desktop Digital Banking site?']\n",
      "response_batch = ['To protect member security, Coastal is not able to share details surrounding the reasons for receiving additional authentication challenges.']\n",
      "response_batch = ['Will recurring transfers continue, even if my card is turned off?']\n",
      "response_batch = ['Mount Everest is a peak in the Himalaya mountain range.']\n",
      "response_batch = ['If the sender has selected Next Day or Express delivery then the recipient will receive the funds 1 business days after accepting the payment.']\n",
      "response_batch = ['What is NEFT ?']\n",
      "response_batch = [\"I called the number on my new VISA Debit Card for activation, but it won't activate.\"]\n",
      "response_batch = ['How can I view my credit card account details?']\n",
      "response_batch = ['Within the Messages tab on the Account Services page, click the \"Compose New\" link in the menu bar.']\n",
      "response_batch = ['Where do I find my mobile settings and change them?']\n",
      "response_batch = ['Does Coastal charge a fee to receive Foreign Wire Transfers of Funds?']\n",
      "response_batch = ['what is the price of sari ?']\n",
      "response_batch = ['How do I access the system after being locked out?']\n",
      "response_batch = ['If you are still unable to activate your card, please call us at 800-868-4262 or 919-420-8000.']\n",
      "\n",
      "simpleneighbors index for 39 sentences built.\n"
     ]
    }
   ],
   "source": [
    "#@title Compute embeddings and build simpleneighbors index\n",
    "batch_size = 1\n",
    "\n",
    "encodings = model.signatures['response_encoder'](\n",
    "  input=tf.constant([sentences[0][0]]),\n",
    "  context=tf.constant([sentences[0][1]]))\n",
    "index = simpleneighbors.SimpleNeighbors(\n",
    "    len(encodings['outputs'][0]), metric='angular')\n",
    "\n",
    "print('Computing embeddings for %s sentences' % len(sentences))\n",
    "slices = zip(*(iter(sentences),) * batch_size)\n",
    "num_batches = int(len(sentences) / batch_size)\n",
    "for s in tqdm(slices, total=num_batches):\n",
    "  response_batch = list([r for r, c in s])\n",
    "  context_batch = list([c for r, c in s])\n",
    "  encodings = model.signatures['response_encoder'](\n",
    "                input=tf.constant(response_batch),\n",
    "                context=tf.constant(context_batch)\n",
    "              )\n",
    "  print('response_batch =', response_batch)\n",
    "  for batch_index, batch in enumerate(response_batch):\n",
    "    index.add_one(batch, encodings['outputs'][batch_index])\n",
    "\n",
    "index.build()\n",
    "print('simpleneighbors index for %s sentences built.' % len(sentences))"
   ]
  },
  {
   "cell_type": "markdown",
   "metadata": {
    "colab_type": "text",
    "id": "ZkNcjoPzHJpP"
   },
   "source": [
    "On retrieval, the question is encoded using the **question_encoder** and the question embedding is used to query the simpleneighbors index."
   ]
  },
  {
   "cell_type": "code",
   "execution_count": 148,
   "metadata": {
    "cellView": "both",
    "colab": {},
    "colab_type": "code",
    "id": "J0xTw2w3UViK"
   },
   "outputs": [
    {
     "name": "stdout",
     "output_type": "stream",
     "text": [
      "This depends on the delivery option selected by the sender of the funds.\n",
      "Does Coastal charge a fee to receive Foreign Wire Transfers of Funds?\n",
      "National Electronic Funds Transfer or NEFT is an electronic funds transfer system maintained by the Reserve Bank of India.\n",
      "When I use Popmoney when will the recipient receive the funds?\n",
      "Will recurring transfers continue, even if my card is turned off?\n",
      "If the sender has selected Next Day or Express delivery then the recipient will receive the funds 1 business days after accepting the payment.\n",
      "If a fee is imposed, it will be deducted from the amount of the incoming wire prior to us receiving it and posting it to your account.\n",
      "Any automatic payments or pending transaction made before the card was turned off will continue as normal.\n",
      "You may access your credit card history, transactions, payments, and details within Digital Banking.\n",
      "Often times, it can take up to 3 days after accepting the payment.\n"
     ]
    }
   ],
   "source": [
    "#@title Retrieve nearest neighbors for a random question from SQuAD\n",
    "num_results = 10 #@param {type:\"slider\", min:5, max:40, step:1}\n",
    "\n",
    "s= get_nearest('funds transfer')\n",
    "for i in s:\n",
    "    print(i)\n",
    "# sent_dict[s[0]]"
   ]
  },
  {
   "cell_type": "code",
   "execution_count": 135,
   "metadata": {},
   "outputs": [
    {
     "data": {
      "text/plain": [
       "{'You may contact the Member Service Center at 800-868-4262, or visit your local branch.': 'You may contact the Member Service Center at 800-868-4262, or visit your local branch.',\n",
       " 'The pink one cost about 250': 'The pink one cost about 250',\n",
       " '?This can be found?by tapping the menu icon at the top right of the screen and scrolling down until you see the Solution Center.': 'If you would like to do things like change your password, change your email address or change your address, you just need to access the Solution Center on the mobile app. ?This can be found?by tapping the menu icon at the top right of the screen and scrolling down until you see the Solution Center.',\n",
       " 'Often times, it can take up to 3 days after accepting the payment.': 'This depends on the delivery option selected by the sender of the funds. Often times, it can take up to 3 days after accepting the payment. If the sender has selected Next Day or Express delivery then the recipient will receive the funds 1 business days after accepting the payment.',\n",
       " 'The Digital Banking mobile app contains most of the same features as the desktop site.': 'The Digital Banking mobile app contains most of the same features as the desktop site. It also offers functionality not found on the desktop site, such as Mobile Check Deposit and Tap Balances.',\n",
       " 'You may access your credit card history, transactions, payments, and details within Digital Banking.': 'You may access your credit card history, transactions, payments, and details within Digital Banking.',\n",
       " 'Absolutely!': 'Absolutely! Any automatic payments or pending transaction made before the card was turned off will continue as normal.',\n",
       " 'Any automatic payments or pending transaction made before the card was turned off will continue as normal.': 'Absolutely! Any automatic payments or pending transaction made before the card was turned off will continue as normal.',\n",
       " 'How do I send a secured message?': 'Within the Messages tab on the Account Services page, click the \"Compose New\" link in the menu bar.',\n",
       " 'When I use Popmoney when will the recipient receive the funds?': 'This depends on the delivery option selected by the sender of the funds. Often times, it can take up to 3 days after accepting the payment. If the sender has selected Next Day or Express delivery then the recipient will receive the funds 1 business days after accepting the payment.',\n",
       " 'The system monitors trends in member access and activity within Digital Banking.': 'The system monitors trends in member access and activity within Digital Banking. We may prompt for additional authentication based on those trends.For example, you might get challenged if you:Clear your browser cookies.Use a new device or computer.Log in from a new location.Please note that this is not a comprehensive list of things that could prompt for challenge questions. To protect member security, Coastal is not able to share details surrounding the reasons for receiving additional authentication challenges.',\n",
       " 'National Electronic Funds Transfer or NEFT is an electronic funds transfer system maintained by the Reserve Bank of India.': 'National Electronic Funds Transfer or NEFT is an electronic funds transfer system maintained by the Reserve Bank of India. Started in November 2005, the setup was established and maintained by Institute for Development and Research in Banking Technology',\n",
       " 'It is located between Nepal and Tibet, an autonomous region of China': 'Mount Everest is the highest of the Himalayan mountains, and—at 8,850 meters (29,035 feet)—is considered the highest point on Earth. Mount Everest is a peak in the Himalaya mountain range. It is located between Nepal and Tibet, an autonomous region of China',\n",
       " 'It also offers functionality not found on the desktop site, such as Mobile Check Deposit and Tap Balances.': 'The Digital Banking mobile app contains most of the same features as the desktop site. It also offers functionality not found on the desktop site, such as Mobile Check Deposit and Tap Balances.',\n",
       " 'Mount Everest is the highest of the Himalayan mountains, and—at 8,850 meters (29,035 feet)—is considered the highest point on Earth.': 'Mount Everest is the highest of the Himalayan mountains, and—at 8,850 meters (29,035 feet)—is considered the highest point on Earth. Mount Everest is a peak in the Himalaya mountain range. It is located between Nepal and Tibet, an autonomous region of China',\n",
       " 'Started in November 2005, the setup was established and maintained by Institute for Development and Research in Banking Technology': 'National Electronic Funds Transfer or NEFT is an electronic funds transfer system maintained by the Reserve Bank of India. Started in November 2005, the setup was established and maintained by Institute for Development and Research in Banking Technology',\n",
       " 'What can I do?': 'Please remember to hit the pound key (\"#\") after every entry. If you are still unable to activate your card, please call us at 800-868-4262 or 919-420-8000.',\n",
       " 'While Coastal does not charge a fee for receiving the international wire, some issuing or corresponding institutions may charge a fee.': 'While Coastal does not charge a fee for receiving the international wire, some issuing or corresponding institutions may charge a fee. If a fee is imposed, it will be deducted from the amount of the incoming wire prior to us receiving it and posting it to your account.',\n",
       " 'Where is mount everest ?': 'Mount Everest is the highest of the Himalayan mountains, and—at 8,850 meters (29,035 feet)—is considered the highest point on Earth. Mount Everest is a peak in the Himalaya mountain range. It is located between Nepal and Tibet, an autonomous region of China',\n",
       " 'We may prompt for additional authentication based on those trends.For example, you might get challenged if you:Clear your browser cookies.Use a new device or computer.Log in from a new location.Please note that this is not a comprehensive list of things that could prompt for challenge questions.': 'The system monitors trends in member access and activity within Digital Banking. We may prompt for additional authentication based on those trends.For example, you might get challenged if you:Clear your browser cookies.Use a new device or computer.Log in from a new location.Please note that this is not a comprehensive list of things that could prompt for challenge questions. To protect member security, Coastal is not able to share details surrounding the reasons for receiving additional authentication challenges.',\n",
       " 'If you would like to do things like change your password, change your email address or change your address, you just need to access the Solution Center on the mobile app.': 'If you would like to do things like change your password, change your email address or change your address, you just need to access the Solution Center on the mobile app. ?This can be found?by tapping the menu icon at the top right of the screen and scrolling down until you see the Solution Center.',\n",
       " 'Please remember to hit the pound key (\"#\") after every entry.': 'Please remember to hit the pound key (\"#\") after every entry. If you are still unable to activate your card, please call us at 800-868-4262 or 919-420-8000.',\n",
       " 'This depends on the delivery option selected by the sender of the funds.': 'This depends on the delivery option selected by the sender of the funds. Often times, it can take up to 3 days after accepting the payment. If the sender has selected Next Day or Express delivery then the recipient will receive the funds 1 business days after accepting the payment.',\n",
       " 'If a fee is imposed, it will be deducted from the amount of the incoming wire prior to us receiving it and posting it to your account.': 'While Coastal does not charge a fee for receiving the international wire, some issuing or corresponding institutions may charge a fee. If a fee is imposed, it will be deducted from the amount of the incoming wire prior to us receiving it and posting it to your account.',\n",
       " 'Why do I keep getting asked my security questions each time I log into the system?': 'The system monitors trends in member access and activity within Digital Banking. We may prompt for additional authentication based on those trends.For example, you might get challenged if you:Clear your browser cookies.Use a new device or computer.Log in from a new location.Please note that this is not a comprehensive list of things that could prompt for challenge questions. To protect member security, Coastal is not able to share details surrounding the reasons for receiving additional authentication challenges.',\n",
       " 'Does the mobile app have the same features and functions as the desktop Digital Banking site?': 'The Digital Banking mobile app contains most of the same features as the desktop site. It also offers functionality not found on the desktop site, such as Mobile Check Deposit and Tap Balances.',\n",
       " 'To protect member security, Coastal is not able to share details surrounding the reasons for receiving additional authentication challenges.': 'The system monitors trends in member access and activity within Digital Banking. We may prompt for additional authentication based on those trends.For example, you might get challenged if you:Clear your browser cookies.Use a new device or computer.Log in from a new location.Please note that this is not a comprehensive list of things that could prompt for challenge questions. To protect member security, Coastal is not able to share details surrounding the reasons for receiving additional authentication challenges.',\n",
       " 'Will recurring transfers continue, even if my card is turned off?': 'Absolutely! Any automatic payments or pending transaction made before the card was turned off will continue as normal.',\n",
       " 'Mount Everest is a peak in the Himalaya mountain range.': 'Mount Everest is the highest of the Himalayan mountains, and—at 8,850 meters (29,035 feet)—is considered the highest point on Earth. Mount Everest is a peak in the Himalaya mountain range. It is located between Nepal and Tibet, an autonomous region of China',\n",
       " 'If the sender has selected Next Day or Express delivery then the recipient will receive the funds 1 business days after accepting the payment.': 'This depends on the delivery option selected by the sender of the funds. Often times, it can take up to 3 days after accepting the payment. If the sender has selected Next Day or Express delivery then the recipient will receive the funds 1 business days after accepting the payment.',\n",
       " 'What is NEFT ?': 'National Electronic Funds Transfer or NEFT is an electronic funds transfer system maintained by the Reserve Bank of India. Started in November 2005, the setup was established and maintained by Institute for Development and Research in Banking Technology',\n",
       " \"I called the number on my new VISA Debit Card for activation, but it won't activate.\": 'Please remember to hit the pound key (\"#\") after every entry. If you are still unable to activate your card, please call us at 800-868-4262 or 919-420-8000.',\n",
       " 'How can I view my credit card account details?': 'You may access your credit card history, transactions, payments, and details within Digital Banking.',\n",
       " 'Within the Messages tab on the Account Services page, click the \"Compose New\" link in the menu bar.': 'Within the Messages tab on the Account Services page, click the \"Compose New\" link in the menu bar.',\n",
       " 'Where do I find my mobile settings and change them?': 'If you would like to do things like change your password, change your email address or change your address, you just need to access the Solution Center on the mobile app. ?This can be found?by tapping the menu icon at the top right of the screen and scrolling down until you see the Solution Center.',\n",
       " 'Does Coastal charge a fee to receive Foreign Wire Transfers of Funds?': 'While Coastal does not charge a fee for receiving the international wire, some issuing or corresponding institutions may charge a fee. If a fee is imposed, it will be deducted from the amount of the incoming wire prior to us receiving it and posting it to your account.',\n",
       " 'what is the price of sari ?': 'The pink one cost about 250',\n",
       " 'How do I access the system after being locked out?': 'You may contact the Member Service Center at 800-868-4262, or visit your local branch.',\n",
       " 'If you are still unable to activate your card, please call us at 800-868-4262 or 919-420-8000.': 'Please remember to hit the pound key (\"#\") after every entry. If you are still unable to activate your card, please call us at 800-868-4262 or 919-420-8000.'}"
      ]
     },
     "execution_count": 135,
     "metadata": {},
     "output_type": "execute_result"
    }
   ],
   "source": []
  },
  {
   "cell_type": "code",
   "execution_count": null,
   "metadata": {},
   "outputs": [],
   "source": []
  }
 ],
 "metadata": {
  "accelerator": "GPU",
  "colab": {
   "collapsed_sections": [
    "VFMCdVJIIraw"
   ],
   "name": "Universal Encoder Q&A Model Retrieval Demo",
   "private_outputs": true,
   "provenance": [],
   "toc_visible": true
  },
  "environment": {
   "name": "tf2-2-2-gpu.2-2.m50",
   "type": "gcloud",
   "uri": "gcr.io/deeplearning-platform-release/tf2-2-2-gpu.2-2:m50"
  },
  "kernelspec": {
   "display_name": "Python 3",
   "language": "python",
   "name": "python3"
  },
  "language_info": {
   "codemirror_mode": {
    "name": "ipython",
    "version": 3
   },
   "file_extension": ".py",
   "mimetype": "text/x-python",
   "name": "python",
   "nbconvert_exporter": "python",
   "pygments_lexer": "ipython3",
   "version": "3.7.6"
  }
 },
 "nbformat": 4,
 "nbformat_minor": 4
}
